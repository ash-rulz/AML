{
 "cells": [
  {
   "cell_type": "code",
   "execution_count": null,
   "id": "f532d705-fa68-4a13-a990-a95b17f1edd6",
   "metadata": {},
   "outputs": [],
   "source": []
  },
  {
   "cell_type": "code",
   "execution_count": 2,
   "id": "f19ecc85-1aee-405d-b13c-0afa5014a2d9",
   "metadata": {},
   "outputs": [
    {
     "ename": "SyntaxError",
     "evalue": "invalid syntax (<ipython-input-2-457e664de34f>, line 8)",
     "output_type": "error",
     "traceback": [
      "\u001b[1;36m  File \u001b[1;32m\"<ipython-input-2-457e664de34f>\"\u001b[1;36m, line \u001b[1;32m8\u001b[0m\n\u001b[1;33m    model %>% layer_dense(units = 32, input_shape = c(4), activation = 'relu') %>% layer_dense(units = 32, activation = 'relu') %>% layer_dense(units = 4, activation = 'softmax')\u001b[0m\n\u001b[1;37m           ^\u001b[0m\n\u001b[1;31mSyntaxError\u001b[0m\u001b[1;31m:\u001b[0m invalid syntax\n"
     ]
    }
   ],
   "source": [
    "# Environment D (training with random goal positions)\n",
    "\n",
    "H <- 4\n",
    "W <- 4\n",
    "\n",
    "# Define the neural network (two hidden layers of 32 units each).\n",
    "model <- keras_model_sequential()\n",
    "model %>% layer_dense(units = 32, input_shape = c(4), activation = 'relu') %>% layer_dense(units = 32, activation = 'relu') %>% layer_dense(units = 4, activation = 'softmax')\n",
    "\n",
    "compile(model, loss = \"categorical_crossentropy\", optimizer = optimizer_sgd(lr=0.001))\n",
    "\n",
    "initial_weights <- get_weights(model)\n",
    "\n",
    "train_goals <- list(c(4,1), c(4,3), c(3,1), c(3,4), c(2,1), c(2,2), c(1,2), c(1,3))\n",
    "val_goals <- list(c(4,2), c(4,4), c(3,2), c(3,3), c(2,3), c(2,4), c(1,1), c(1,4))"
   ]
  },
  {
   "cell_type": "code",
   "execution_count": null,
   "id": "e7d94305-b7bf-4e9f-a8b4-8fca0945bf39",
   "metadata": {},
   "outputs": [],
   "source": []
  }
 ],
 "metadata": {
  "kernelspec": {
   "display_name": "Python 3",
   "language": "python",
   "name": "python3"
  },
  "language_info": {
   "codemirror_mode": {
    "name": "ipython",
    "version": 3
   },
   "file_extension": ".py",
   "mimetype": "text/x-python",
   "name": "python",
   "nbconvert_exporter": "python",
   "pygments_lexer": "ipython3",
   "version": "3.8.8"
  }
 },
 "nbformat": 4,
 "nbformat_minor": 5
}
